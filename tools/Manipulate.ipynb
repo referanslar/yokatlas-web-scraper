{
 "cells": [
  {
   "cell_type": "code",
   "execution_count": 14,
   "id": "3eb5e3ba",
   "metadata": {},
   "outputs": [],
   "source": [
    "import json"
   ]
  },
  {
   "cell_type": "code",
   "execution_count": 15,
   "id": "1f0d8bba",
   "metadata": {},
   "outputs": [],
   "source": [
    "datas = {}\n",
    "new_data = []"
   ]
  },
  {
   "cell_type": "code",
   "execution_count": 16,
   "id": "97497f98",
   "metadata": {},
   "outputs": [],
   "source": [
    "with open('../data/degrees.json', 'r') as file:\n",
    "    datas = json.load(file)"
   ]
  },
  {
   "cell_type": "code",
   "execution_count": 17,
   "id": "082bf7f6",
   "metadata": {},
   "outputs": [],
   "source": [
    "for data in datas:    \n",
    "    new_data.append({\n",
    "        \"puan_turu\": data[\"puanturu\"],\n",
    "        \"osym_kodu\": data[\"osymprogramkodu\"],\n",
    "        \"bolum_adi\": data[\"program_title\"],\n",
    "        \"fakulte_adi\": data[\"fakulteyuksekokul\"],\n",
    "        \"universite_adi\": data[\"universite\"],\n",
    "        \"universite_turu\": data[\"universiteturu\"],\n",
    "        \"siralama\": data[\"012katsayiileyerlesensonkisininbasarisirasi\"],\n",
    "        \"kontenjan\": data[\"genelkontenjan\"]\n",
    "    })"
   ]
  },
  {
   "cell_type": "code",
   "execution_count": 18,
   "id": "94222d7e",
   "metadata": {},
   "outputs": [],
   "source": [
    "with open('../data/degrees.json', 'w') as file:\n",
    "    json.dump(new_data, file, indent=4, ensure_ascii=False)"
   ]
  }
 ],
 "metadata": {
  "kernelspec": {
   "display_name": "Python 3 (ipykernel)",
   "language": "python",
   "name": "python3"
  },
  "language_info": {
   "codemirror_mode": {
    "name": "ipython",
    "version": 3
   },
   "file_extension": ".py",
   "mimetype": "text/x-python",
   "name": "python",
   "nbconvert_exporter": "python",
   "pygments_lexer": "ipython3",
   "version": "3.11.7"
  }
 },
 "nbformat": 4,
 "nbformat_minor": 5
}
